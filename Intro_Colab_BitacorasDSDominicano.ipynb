{
  "nbformat": 4,
  "nbformat_minor": 0,
  "metadata": {
    "colab": {
      "name": "Intro_Colab_BitacorasDSDominicano.ipynb",
      "version": "0.3.2",
      "provenance": [],
      "toc_visible": true,
      "include_colab_link": true
    },
    "kernelspec": {
      "name": "python3",
      "display_name": "Python 3"
    }
  },
  "cells": [
    {
      "cell_type": "markdown",
      "metadata": {
        "id": "view-in-github",
        "colab_type": "text"
      },
      "source": [
        "<a href=\"https://colab.research.google.com/github/difo23/Learn_Data_Science_in_3_Months/blob/master/Intro_Colab_BitacorasDSDominicano.ipynb\" target=\"_parent\"><img src=\"https://colab.research.google.com/assets/colab-badge.svg\" alt=\"Open In Colab\"/></a>"
      ]
    },
    {
      "cell_type": "markdown",
      "metadata": {
        "id": "CufeFeIXtBM_",
        "colab_type": "text"
      },
      "source": [
        "# Bitácora de un Data Science Dominicano: \n",
        "## Intro a Colab\n",
        "\n",
        " 0. Vistazo general a la interfaz y Modificar la apariencia de colab.\n",
        " 1. Uso de atajos de teclado importantes en Colab.\n",
        " 2. Introduccion a comandos de bash.\n",
        " 3. Agregar Dataset repositorio local.\n",
        " 4. Agregar DataSet por URL.\n",
        "\n",
        "\n"
      ]
    },
    {
      "cell_type": "markdown",
      "metadata": {
        "id": "VUj8nm7J0k9P",
        "colab_type": "text"
      },
      "source": [
        "## 1. Uso de atajos de teclado importantes en Colab:"
      ]
    },
    {
      "cell_type": "markdown",
      "metadata": {
        "id": "IYx8Jp8Y01B2",
        "colab_type": "text"
      },
      "source": [
        "### Seleccionar atajos clasicos de notebook: \n",
        "En la  pestaña Herramientas/Preferencias/Editor +  enlaces claves Editor"
      ]
    },
    {
      "cell_type": "markdown",
      "metadata": {
        "id": "TrZKA2lp01gr",
        "colab_type": "text"
      },
      "source": [
        "### Mostrar todos los atajos de teclado: \n",
        "CTRL + M H"
      ]
    },
    {
      "cell_type": "markdown",
      "metadata": {
        "id": "y2y9ADk83IbB",
        "colab_type": "text"
      },
      "source": [
        "### Crear una nueva celda de texto:\n",
        "CTRL+M X ; Este atajo lo agregue yo mismo."
      ]
    },
    {
      "cell_type": "markdown",
      "metadata": {
        "id": "H6-rundC4Nti",
        "colab_type": "text"
      },
      "source": [
        "### Crear titulos en celda de texto:\n",
        "  * Agregas al principio de la línea el caracter '#' para encabezado H1.\n",
        "  * Los caracteres '##' para encabezado H2, así sucesivamente hasta H6.\n",
        "   "
      ]
    },
    {
      "cell_type": "markdown",
      "metadata": {
        "id": "UnyTY5AV55dq",
        "colab_type": "text"
      },
      "source": [
        "### Crear una nueva celda de codígo:\n",
        "CTRL+M C"
      ]
    },
    {
      "cell_type": "code",
      "metadata": {
        "id": "27g6NmAK7PhW",
        "colab_type": "code",
        "colab": {}
      },
      "source": [
        "# Esta es una linea de codigo creada con el comando anterior"
      ],
      "execution_count": 0,
      "outputs": []
    },
    {
      "cell_type": "code",
      "metadata": {
        "id": "8GBYC3d-7k8-",
        "colab_type": "code",
        "colab": {}
      },
      "source": [
        " a = 24 "
      ],
      "execution_count": 0,
      "outputs": []
    },
    {
      "cell_type": "code",
      "metadata": {
        "id": "WQHpYEFE8ZGR",
        "colab_type": "code",
        "colab": {
          "base_uri": "https://localhost:8080/",
          "height": 33
        },
        "outputId": "c2d32391-d1d4-43ba-e34c-a1d3306ff7b5"
      },
      "source": [
        "a"
      ],
      "execution_count": 18,
      "outputs": [
        {
          "output_type": "execute_result",
          "data": {
            "text/plain": [
              "24"
            ]
          },
          "metadata": {
            "tags": []
          },
          "execution_count": 18
        }
      ]
    },
    {
      "cell_type": "code",
      "metadata": {
        "id": "rNhi2u9f8b-W",
        "colab_type": "code",
        "colab": {
          "base_uri": "https://localhost:8080/",
          "height": 33
        },
        "outputId": "804cd853-7798-4390-f1b2-97d6a0c9bf40"
      },
      "source": [
        "Out[18] #Puedo referirme a una salida usando el arreglo globa 'Out'"
      ],
      "execution_count": 19,
      "outputs": [
        {
          "output_type": "execute_result",
          "data": {
            "text/plain": [
              "24"
            ]
          },
          "metadata": {
            "tags": []
          },
          "execution_count": 19
        }
      ]
    },
    {
      "cell_type": "code",
      "metadata": {
        "id": "t4-yhQBo7uQD",
        "colab_type": "code",
        "colab": {
          "base_uri": "https://localhost:8080/",
          "height": 33
        },
        "outputId": "dc294145-26f8-4e09-ffdf-08175b3c80c7"
      },
      "source": [
        "In[12] # Puedo referirme a una entrada usando el arreglo globar 'In'"
      ],
      "execution_count": 22,
      "outputs": [
        {
          "output_type": "execute_result",
          "data": {
            "text/plain": [
              "'# Esta es una linea de codigo creada con el comando anterior'"
            ]
          },
          "metadata": {
            "tags": []
          },
          "execution_count": 22
        }
      ]
    },
    {
      "cell_type": "markdown",
      "metadata": {
        "id": "m1bJWDsn9cuU",
        "colab_type": "text"
      },
      "source": [
        "### Covertir una celda de codigo en una celda de texto:\n",
        "CTRL+M M"
      ]
    },
    {
      "cell_type": "markdown",
      "metadata": {
        "id": "sjo6G3zn-WwS",
        "colab_type": "text"
      },
      "source": [
        "### Convertir una celda de texto en una celda de codigo:\n",
        "CTRL + M Y"
      ]
    },
    {
      "cell_type": "markdown",
      "metadata": {
        "id": "0gTDwcAm-xvJ",
        "colab_type": "text"
      },
      "source": [
        "### Ejecutar una linea de codigo y agregar una nueva linea:\n",
        "ALT + Enter"
      ]
    },
    {
      "cell_type": "markdown",
      "metadata": {
        "id": "sLj5L_pJ_dCs",
        "colab_type": "text"
      },
      "source": [
        "### Ejecutar una celda y saltar a la siguiente:\n",
        "SHIFT + Enter"
      ]
    },
    {
      "cell_type": "markdown",
      "metadata": {
        "id": "pTqyQALkAQHW",
        "colab_type": "text"
      },
      "source": [
        "### Ejecutar una celda de codigo:\n",
        "CTRL + Enter"
      ]
    },
    {
      "cell_type": "code",
      "metadata": {
        "id": "w1CAqvFfAuqR",
        "colab_type": "code",
        "colab": {
          "base_uri": "https://localhost:8080/",
          "height": 33
        },
        "outputId": "35291930-b0db-4846-fa70-d9570b431990"
      },
      "source": [
        "a "
      ],
      "execution_count": 25,
      "outputs": [
        {
          "output_type": "execute_result",
          "data": {
            "text/plain": [
              "24"
            ]
          },
          "metadata": {
            "tags": []
          },
          "execution_count": 25
        }
      ]
    },
    {
      "cell_type": "markdown",
      "metadata": {
        "id": "Giefd4lEAxPJ",
        "colab_type": "text"
      },
      "source": [
        "### Agregar una nueva celda encima de la que te encuentras:\n",
        "CTRL + M A\n",
        "\n",
        "> Bloc con sangría\n",
        "\n"
      ]
    },
    {
      "cell_type": "code",
      "metadata": {
        "id": "6d2YZsyeBEjS",
        "colab_type": "code",
        "colab": {}
      },
      "source": [
        "# Nueva linea encima"
      ],
      "execution_count": 0,
      "outputs": []
    },
    {
      "cell_type": "code",
      "metadata": {
        "id": "A_I4oY1KB1t-",
        "colab_type": "code",
        "colab": {}
      },
      "source": [
        "# Linea actual"
      ],
      "execution_count": 0,
      "outputs": []
    },
    {
      "cell_type": "code",
      "metadata": {
        "id": "LZfUj_pJB85j",
        "colab_type": "code",
        "colab": {}
      },
      "source": [
        "# Nueva linea debajo"
      ],
      "execution_count": 0,
      "outputs": []
    },
    {
      "cell_type": "markdown",
      "metadata": {
        "id": "TFwhg3vMCB1D",
        "colab_type": "text"
      },
      "source": [
        "### Agregar una nueva celda debajo de la que te encuentras:\n",
        "CTRL + M B"
      ]
    },
    {
      "cell_type": "markdown",
      "metadata": {
        "id": "t623jGT1wqQO",
        "colab_type": "text"
      },
      "source": [
        "## 2. Introducción a comandos de Bash:"
      ]
    },
    {
      "cell_type": "markdown",
      "metadata": {
        "id": "8FrrTCksEkzr",
        "colab_type": "text"
      },
      "source": [
        "### Agregar my drive en el alojamiento remoto:\n"
      ]
    },
    {
      "cell_type": "code",
      "metadata": {
        "id": "nAqFoFDIE1Or",
        "colab_type": "code",
        "colab": {}
      },
      "source": [
        "from google.colab import drive\n",
        "drive.mount('/content/drive')"
      ],
      "execution_count": 0,
      "outputs": []
    },
    {
      "cell_type": "markdown",
      "metadata": {
        "id": "iC3O5dk9xwXe",
        "colab_type": "text"
      },
      "source": [
        "### Comando '***PWD***' para indicar donde me encuentro:"
      ]
    },
    {
      "cell_type": "code",
      "metadata": {
        "id": "7-ZWO-wNyIFJ",
        "colab_type": "code",
        "colab": {
          "base_uri": "https://localhost:8080/",
          "height": 33
        },
        "outputId": "7a4882e3-e44b-4aa3-f5d9-ff5ec3f8f3f4"
      },
      "source": [
        "!pwd"
      ],
      "execution_count": 9,
      "outputs": [
        {
          "output_type": "stream",
          "text": [
            "/content/drive/My Drive/Colab Notebooks\n"
          ],
          "name": "stdout"
        }
      ]
    },
    {
      "cell_type": "code",
      "metadata": {
        "id": "YFlqb2Aezehi",
        "colab_type": "code",
        "colab": {}
      },
      "source": [
        "pwd = !pwd"
      ],
      "execution_count": 0,
      "outputs": []
    },
    {
      "cell_type": "code",
      "metadata": {
        "id": "030hLtjlzlR3",
        "colab_type": "code",
        "colab": {
          "base_uri": "https://localhost:8080/",
          "height": 33
        },
        "outputId": "a5bbb5ca-8ef7-4333-8711-e02f7fb6a02e"
      },
      "source": [
        "type(pwd)"
      ],
      "execution_count": 11,
      "outputs": [
        {
          "output_type": "execute_result",
          "data": {
            "text/plain": [
              "IPython.utils.text.SList"
            ]
          },
          "metadata": {
            "tags": []
          },
          "execution_count": 11
        }
      ]
    },
    {
      "cell_type": "markdown",
      "metadata": {
        "id": "5mALxYqLxNzt",
        "colab_type": "text"
      },
      "source": [
        "### Commando ***'ls'*** para listar el contenido de la carpeta en la que me encuentro:"
      ]
    },
    {
      "cell_type": "code",
      "metadata": {
        "id": "JHpCYs7OuMEp",
        "colab_type": "code",
        "colab": {
          "base_uri": "https://localhost:8080/",
          "height": 33
        },
        "outputId": "7a1e9dfd-e227-4dd0-f20f-c26c63499fe3"
      },
      "source": [
        "!ls\n",
        "# los comandos de bash linux o powershell son los mismo aqui si pones ! delante \n",
        "#del comando"
      ],
      "execution_count": 8,
      "outputs": [
        {
          "output_type": "stream",
          "text": [
            "Intro_Colab_BitacorasDSDominicano.ipynb  INTRO_COLAB.ipynb  Notebooks\n"
          ],
          "name": "stdout"
        }
      ]
    },
    {
      "cell_type": "code",
      "metadata": {
        "id": "vENgqlm8uRfH",
        "colab_type": "code",
        "colab": {}
      },
      "source": [
        "a = !ls"
      ],
      "execution_count": 0,
      "outputs": []
    },
    {
      "cell_type": "code",
      "metadata": {
        "id": "pRvgCM6yumDM",
        "colab_type": "code",
        "colab": {
          "base_uri": "https://localhost:8080/",
          "height": 33
        },
        "outputId": "5eee3402-0837-4791-c764-23e47eac75e2"
      },
      "source": [
        "type ( a)"
      ],
      "execution_count": 3,
      "outputs": [
        {
          "output_type": "execute_result",
          "data": {
            "text/plain": [
              "IPython.utils.text.SList"
            ]
          },
          "metadata": {
            "tags": []
          },
          "execution_count": 3
        }
      ]
    },
    {
      "cell_type": "code",
      "metadata": {
        "id": "t169XdzKupG8",
        "colab_type": "code",
        "colab": {
          "base_uri": "https://localhost:8080/",
          "height": 33
        },
        "outputId": "c533914e-6888-42e5-def0-05eec123a062"
      },
      "source": [
        "a[0]"
      ],
      "execution_count": 6,
      "outputs": [
        {
          "output_type": "execute_result",
          "data": {
            "text/plain": [
              "'drive  gdrive  sample_data'"
            ]
          },
          "metadata": {
            "tags": []
          },
          "execution_count": 6
        }
      ]
    },
    {
      "cell_type": "code",
      "metadata": {
        "id": "agXSPYf3urPp",
        "colab_type": "code",
        "colab": {
          "base_uri": "https://localhost:8080/",
          "height": 50
        },
        "outputId": "c12cc624-eabe-40ba-ea41-38f1ee8d97cb"
      },
      "source": [
        "%ls"
      ],
      "execution_count": 7,
      "outputs": [
        {
          "output_type": "stream",
          "text": [
            "ls: cannot access 'gdrive': Transport endpoint is not connected\n",
            "\u001b[0m\u001b[01;34mdrive\u001b[0m/  \u001b[01;34mgdrive\u001b[0m/  \u001b[01;34msample_data\u001b[0m/\n"
          ],
          "name": "stdout"
        }
      ]
    },
    {
      "cell_type": "code",
      "metadata": {
        "id": "WUbSAd4Xu0ud",
        "colab_type": "code",
        "colab": {
          "base_uri": "https://localhost:8080/",
          "height": 50
        },
        "outputId": "83e74ab7-ed6c-418c-b1d2-c1e25d1baa01"
      },
      "source": [
        "a = %ls"
      ],
      "execution_count": 8,
      "outputs": [
        {
          "output_type": "stream",
          "text": [
            "ls: cannot access 'gdrive': Transport endpoint is not connected\n",
            "\u001b[0m\u001b[01;34mdrive\u001b[0m/  \u001b[01;34mgdrive\u001b[0m/  \u001b[01;34msample_data\u001b[0m/\n"
          ],
          "name": "stdout"
        }
      ]
    },
    {
      "cell_type": "markdown",
      "metadata": {
        "id": "-nW4ZWljDvrh",
        "colab_type": "text"
      },
      "source": [
        "### Comando 'cd' para cambiar de directorio pasandole un path:"
      ]
    },
    {
      "cell_type": "code",
      "metadata": {
        "id": "aoz41BDOu8hj",
        "colab_type": "code",
        "colab": {}
      },
      "source": [
        "!cd ./drive"
      ],
      "execution_count": 0,
      "outputs": []
    },
    {
      "cell_type": "code",
      "metadata": {
        "id": "V0s_FIeDvtid",
        "colab_type": "code",
        "colab": {
          "base_uri": "https://localhost:8080/",
          "height": 33
        },
        "outputId": "5306cd55-f30a-4e55-bffc-63c6e6109c02"
      },
      "source": [
        "!ls"
      ],
      "execution_count": 28,
      "outputs": [
        {
          "output_type": "stream",
          "text": [
            "Intro_Colab_BitacorasDSDominicano.ipynb  INTRO_COLAB.ipynb  Notebooks\n"
          ],
          "name": "stdout"
        }
      ]
    },
    {
      "cell_type": "code",
      "metadata": {
        "id": "CEEmlQCNvxck",
        "colab_type": "code",
        "colab": {
          "base_uri": "https://localhost:8080/",
          "height": 33
        },
        "outputId": "ebedff93-256a-4edb-d40a-b695e9d364ee"
      },
      "source": [
        "ls # puedo usar el comando sin ! "
      ],
      "execution_count": 30,
      "outputs": [
        {
          "output_type": "stream",
          "text": [
            "Intro_Colab_BitacorasDSDominicano.ipynb  INTRO_COLAB.ipynb  \u001b[0m\u001b[01;34mNotebooks\u001b[0m/\n"
          ],
          "name": "stdout"
        }
      ]
    },
    {
      "cell_type": "code",
      "metadata": {
        "id": "i2-HILZfv6IY",
        "colab_type": "code",
        "colab": {}
      },
      "source": [
        ""
      ],
      "execution_count": 0,
      "outputs": []
    },
    {
      "cell_type": "markdown",
      "metadata": {
        "id": "govOw_4OwDgc",
        "colab_type": "text"
      },
      "source": [
        "\n",
        "$a= 12 + n*10$\n",
        "\n"
      ]
    },
    {
      "cell_type": "markdown",
      "metadata": {
        "id": "IqrXPbrHwLN-",
        "colab_type": "text"
      },
      "source": [
        "## 3. Insertar Dataset repositorio local;\n",
        "1. Dirigete a la flecha en la ezquina superior izquierda, da clic.\n",
        "2. Selecciona archivos.\n",
        "3. Selecciona Subir."
      ]
    },
    {
      "cell_type": "markdown",
      "metadata": {
        "id": "2xctOMAOHEUf",
        "colab_type": "text"
      },
      "source": [
        "## 4. Agregar DataSet por URL."
      ]
    },
    {
      "cell_type": "code",
      "metadata": {
        "id": "dycENKNXHg9W",
        "colab_type": "code",
        "colab": {
          "base_uri": "https://localhost:8080/",
          "height": 33
        },
        "outputId": "1cb34637-d628-4a58-b455-8aeffbd99481"
      },
      "source": [
        "pwd"
      ],
      "execution_count": 36,
      "outputs": [
        {
          "output_type": "execute_result",
          "data": {
            "text/plain": [
              "['/content/drive/My Drive/Colab Notebooks']"
            ]
          },
          "metadata": {
            "tags": []
          },
          "execution_count": 36
        }
      ]
    },
    {
      "cell_type": "code",
      "metadata": {
        "id": "yyDRrDn1HiLb",
        "colab_type": "code",
        "colab": {
          "base_uri": "https://localhost:8080/",
          "height": 50
        },
        "outputId": "8ca6d12a-1c3d-4c01-8e15-aa66b400d5af"
      },
      "source": [
        "ls"
      ],
      "execution_count": 38,
      "outputs": [
        {
          "output_type": "stream",
          "text": [
            "\u001b[0m\u001b[01;34mDataSets\u001b[0m/                                INTRO_COLAB.ipynb\n",
            "Intro_Colab_BitacorasDSDominicano.ipynb  \u001b[01;34mNotebooks\u001b[0m/\n"
          ],
          "name": "stdout"
        }
      ]
    },
    {
      "cell_type": "code",
      "metadata": {
        "id": "kjOSFbheHp6q",
        "colab_type": "code",
        "colab": {
          "base_uri": "https://localhost:8080/",
          "height": 33
        },
        "outputId": "b6f3eefe-2ba6-460c-f109-939b8b966a5b"
      },
      "source": [
        "cd DataSets/"
      ],
      "execution_count": 39,
      "outputs": [
        {
          "output_type": "stream",
          "text": [
            "/content/drive/My Drive/Colab Notebooks/DataSets\n"
          ],
          "name": "stdout"
        }
      ]
    },
    {
      "cell_type": "code",
      "metadata": {
        "id": "MDWFAOcVHurC",
        "colab_type": "code",
        "colab": {}
      },
      "source": [
        "ls # la carpeta esta limpia"
      ],
      "execution_count": 0,
      "outputs": []
    },
    {
      "cell_type": "markdown",
      "metadata": {
        "id": "MazjdEYPIDYs",
        "colab_type": "text"
      },
      "source": [
        "El siguiente codigo lo tomamos de este articulo [Introducción a Google Colab para data science](https://www.datahack.es/introduccion-a-google-colab-para-data-science/)"
      ]
    },
    {
      "cell_type": "code",
      "metadata": {
        "id": "_LTqHBISHwV5",
        "colab_type": "code",
        "colab": {}
      },
      "source": [
        "!wget -cq https://s3.amazonaws.com/content.udacity-data.com/courses/nd188/flower_data.zip"
      ],
      "execution_count": 0,
      "outputs": []
    },
    {
      "cell_type": "code",
      "metadata": {
        "id": "9mxRlWYiIbEv",
        "colab_type": "code",
        "colab": {
          "base_uri": "https://localhost:8080/",
          "height": 33
        },
        "outputId": "3fefafcc-cf0b-4fa8-aadc-c6d829e5f78b"
      },
      "source": [
        "ls"
      ],
      "execution_count": 44,
      "outputs": [
        {
          "output_type": "stream",
          "text": [
            "flower_data.zip\n"
          ],
          "name": "stdout"
        }
      ]
    },
    {
      "cell_type": "code",
      "metadata": {
        "id": "f0XEagskIqh-",
        "colab_type": "code",
        "colab": {}
      },
      "source": [
        "!unzip -qq flower_data.zip"
      ],
      "execution_count": 0,
      "outputs": []
    },
    {
      "cell_type": "code",
      "metadata": {
        "id": "aP-MBxVlIzQL",
        "colab_type": "code",
        "colab": {
          "base_uri": "https://localhost:8080/",
          "height": 33
        },
        "outputId": "b308d89b-e822-4db9-da69-8a21e62b7b77"
      },
      "source": [
        "ls "
      ],
      "execution_count": 46,
      "outputs": [
        {
          "output_type": "stream",
          "text": [
            "\u001b[0m\u001b[01;34mflower_data\u001b[0m/  flower_data.zip\n"
          ],
          "name": "stdout"
        }
      ]
    },
    {
      "cell_type": "code",
      "metadata": {
        "id": "QSZ_XLmSJD05",
        "colab_type": "code",
        "colab": {
          "base_uri": "https://localhost:8080/",
          "height": 50
        },
        "outputId": "07d72343-3666-4bb9-934d-5686be6f79e7"
      },
      "source": [
        "cd flower_data/"
      ],
      "execution_count": 48,
      "outputs": [
        {
          "output_type": "stream",
          "text": [
            "[Errno 2] No such file or directory: 'flower_data/'\n",
            "/content/drive/My Drive/Colab Notebooks/DataSets/flower_data\n"
          ],
          "name": "stdout"
        }
      ]
    },
    {
      "cell_type": "code",
      "metadata": {
        "id": "vVdf2wl9JGbg",
        "colab_type": "code",
        "colab": {
          "base_uri": "https://localhost:8080/",
          "height": 33
        },
        "outputId": "26383fa8-b60b-4566-8a9d-ab6d4cb8aee9"
      },
      "source": [
        "ls"
      ],
      "execution_count": 49,
      "outputs": [
        {
          "output_type": "stream",
          "text": [
            "\u001b[0m\u001b[01;34mtrain\u001b[0m/  \u001b[01;34mvalid\u001b[0m/\n"
          ],
          "name": "stdout"
        }
      ]
    },
    {
      "cell_type": "markdown",
      "metadata": {
        "id": "WV-5xE3LI1YQ",
        "colab_type": "text"
      },
      "source": [
        "# FIN ...\n"
      ]
    }
  ]
}